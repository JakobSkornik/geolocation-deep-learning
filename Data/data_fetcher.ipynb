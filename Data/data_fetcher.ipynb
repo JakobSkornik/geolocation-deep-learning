{
 "cells": [
  {
   "cell_type": "code",
   "execution_count": 1,
   "metadata": {},
   "outputs": [],
   "source": [
    "import json\n",
    "\n",
    "with open('creds.json') as f_in:\n",
    "    creds = json.load(f_in)\n",
    "\n",
    "api_key = creds[\"api_key\"]\n",
    "api_sig = creds[\"api_sig\"]"
   ]
  },
  {
   "cell_type": "code",
   "execution_count": 4,
   "metadata": {},
   "outputs": [],
   "source": [
    "import random\n",
    "import requests as r\n",
    "\n",
    "def getStreetViewClosestToLoc(rnd):\n",
    "    size = \"600x600\"\n",
    "    loc = f\"{rnd[0]},{rnd[1]}\"\n",
    "    d = 10000\n",
    "\n",
    "    streetview_url = f\"https://maps.googleapis.com/maps/api/streetview?size={size}&location={loc}&radius={d}&key={api_key}\"\n",
    "    metadata_url = f\"https://maps.googleapis.com/maps/api/streetview/metadata?size={size}&location={loc}&radius={d}&key={api_key}\"\n",
    "    streetview = r.get(streetview_url, stream=all)\n",
    "    info = r.get(metadata_url)\n",
    "    return streetview, json.loads(info.text)\n"
   ]
  },
  {
   "cell_type": "code",
   "execution_count": 5,
   "metadata": {},
   "outputs": [],
   "source": [
    "min_loc = [46.02095210929212, 14.543838918732977]\n",
    "max_loc = [46.09861511084722, 14.464685451682861]\n",
    "\n",
    "for i in range(1):\n",
    "    rnd = [\n",
    "        random.uniform(min_loc[0], max_loc[0]),\n",
    "        random.uniform(min_loc[1], max_loc[1]),\n",
    "    ]\n",
    "\n",
    "    streetview, info = getStreetViewClosestToLoc(rnd)\n",
    "    loc = f\"\"\"{info[\"location\"][\"lat\"]},{info[\"location\"][\"lng\"]}\"\"\"\n",
    "    \n",
    "    if streetview.status_code == 200:\n",
    "        with open(f\"./ljubljana/{loc}.png\", \"wb\") as f:\n",
    "            for chunk in streetview.iter_content(1024):\n",
    "                f.write(chunk)"
   ]
  }
 ],
 "metadata": {
  "kernelspec": {
   "display_name": "Python 3.10.0 64-bit",
   "language": "python",
   "name": "python3"
  },
  "language_info": {
   "codemirror_mode": {
    "name": "ipython",
    "version": 3
   },
   "file_extension": ".py",
   "mimetype": "text/x-python",
   "name": "python",
   "nbconvert_exporter": "python",
   "pygments_lexer": "ipython3",
   "version": "3.10.0"
  },
  "orig_nbformat": 4,
  "vscode": {
   "interpreter": {
    "hash": "aee8b7b246df8f9039afb4144a1f6fd8d2ca17a180786b69acc140d282b71a49"
   }
  }
 },
 "nbformat": 4,
 "nbformat_minor": 2
}
