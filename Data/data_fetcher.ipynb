{
 "cells": [
  {
   "cell_type": "code",
   "execution_count": 2,
   "metadata": {},
   "outputs": [
    {
     "ename": "KeyError",
     "evalue": "'api_key'",
     "output_type": "error",
     "traceback": [
      "\u001b[0;31m---------------------------------------------------------------------------\u001b[0m",
      "\u001b[0;31mKeyError\u001b[0m                                  Traceback (most recent call last)",
      "Cell \u001b[0;32mIn [2], line 6\u001b[0m\n\u001b[1;32m      3\u001b[0m \u001b[39mwith\u001b[39;00m \u001b[39mopen\u001b[39m(\u001b[39m'\u001b[39m\u001b[39mcreds.json\u001b[39m\u001b[39m'\u001b[39m) \u001b[39mas\u001b[39;00m f_in:\n\u001b[1;32m      4\u001b[0m     creds \u001b[39m=\u001b[39m json\u001b[39m.\u001b[39mload(f_in)\n\u001b[0;32m----> 6\u001b[0m api_key \u001b[39m=\u001b[39m creds[\u001b[39m\"\u001b[39;49m\u001b[39mapi_key\u001b[39;49m\u001b[39m\"\u001b[39;49m]\n\u001b[1;32m      7\u001b[0m api_sig \u001b[39m=\u001b[39m creds[\u001b[39m\"\u001b[39m\u001b[39mapi_sig\u001b[39m\u001b[39m\"\u001b[39m]\n",
      "\u001b[0;31mKeyError\u001b[0m: 'api_key'"
     ]
    }
   ],
   "source": [
    "import json\n",
    "\n",
    "with open('creds.json') as f_in:\n",
    "    creds = json.load(f_in)\n",
    "\n",
    "api_key = creds[\"google_api\"][\"key\"]"
   ]
  },
  {
   "cell_type": "code",
   "execution_count": 4,
   "metadata": {},
   "outputs": [],
   "source": [
    "import random\n",
    "import requests as r\n",
    "\n",
    "def getStreetViewClosestToLoc(rnd):\n",
    "    size = \"600x600\"\n",
    "    loc = f\"{rnd[0]},{rnd[1]}\"\n",
    "    d = 10000\n",
    "\n",
    "    streetview_url = f\"https://maps.googleapis.com/maps/api/streetview?size={size}&location={loc}&radius={d}&key={api_key}\"\n",
    "    metadata_url = f\"https://maps.googleapis.com/maps/api/streetview/metadata?size={size}&location={loc}&radius={d}&key={api_key}\"\n",
    "    streetview = r.get(streetview_url, stream=all)\n",
    "    info = r.get(metadata_url)\n",
    "    return streetview, json.loads(info.text)\n"
   ]
  },
  {
   "cell_type": "code",
   "execution_count": 1,
   "metadata": {},
   "outputs": [
    {
     "ename": "NameError",
     "evalue": "name 'random' is not defined",
     "output_type": "error",
     "traceback": [
      "\u001b[0;31m---------------------------------------------------------------------------\u001b[0m",
      "\u001b[0;31mNameError\u001b[0m                                 Traceback (most recent call last)",
      "Cell \u001b[0;32mIn [1], line 6\u001b[0m\n\u001b[1;32m      2\u001b[0m max_loc \u001b[39m=\u001b[39m [\u001b[39m46.09861511084722\u001b[39m, \u001b[39m14.464685451682861\u001b[39m]\n\u001b[1;32m      4\u001b[0m \u001b[39mfor\u001b[39;00m i \u001b[39min\u001b[39;00m \u001b[39mrange\u001b[39m(\u001b[39m10000\u001b[39m):\n\u001b[1;32m      5\u001b[0m     rnd \u001b[39m=\u001b[39m [\n\u001b[0;32m----> 6\u001b[0m         random\u001b[39m.\u001b[39muniform(min_loc[\u001b[39m0\u001b[39m], max_loc[\u001b[39m0\u001b[39m]),\n\u001b[1;32m      7\u001b[0m         random\u001b[39m.\u001b[39muniform(min_loc[\u001b[39m1\u001b[39m], max_loc[\u001b[39m1\u001b[39m]),\n\u001b[1;32m      8\u001b[0m     ]\n\u001b[1;32m     10\u001b[0m     streetview, info \u001b[39m=\u001b[39m getStreetViewClosestToLoc(rnd)\n\u001b[1;32m     11\u001b[0m     loc \u001b[39m=\u001b[39m \u001b[39mf\u001b[39m\u001b[39m\"\"\"\u001b[39m\u001b[39m{\u001b[39;00minfo[\u001b[39m\"\u001b[39m\u001b[39mlocation\u001b[39m\u001b[39m\"\u001b[39m][\u001b[39m\"\u001b[39m\u001b[39mlat\u001b[39m\u001b[39m\"\u001b[39m]\u001b[39m}\u001b[39;00m\u001b[39m,\u001b[39m\u001b[39m{\u001b[39;00minfo[\u001b[39m\"\u001b[39m\u001b[39mlocation\u001b[39m\u001b[39m\"\u001b[39m][\u001b[39m\"\u001b[39m\u001b[39mlng\u001b[39m\u001b[39m\"\u001b[39m]\u001b[39m}\u001b[39;00m\u001b[39m\"\"\"\u001b[39m\n",
      "\u001b[0;31mNameError\u001b[0m: name 'random' is not defined"
     ]
    }
   ],
   "source": [
    "min_loc = [46.02095210929212, 14.543838918732977]\n",
    "max_loc = [46.09861511084722, 14.464685451682861]\n",
    "\n",
    "for i in range(10000):\n",
    "    rnd = [\n",
    "        random.uniform(min_loc[0], max_loc[0]),\n",
    "        random.uniform(min_loc[1], max_loc[1]),\n",
    "    ]\n",
    "\n",
    "    streetview, info = getStreetViewClosestToLoc(rnd)\n",
    "    loc = f\"\"\"{info[\"location\"][\"lat\"]},{info[\"location\"][\"lng\"]}\"\"\"\n",
    "    \n",
    "    if streetview.status_code == 200:\n",
    "        with open(f\"./ljubljana/{loc}.png\", \"wb\") as f:\n",
    "            for chunk in streetview.iter_content(1024):\n",
    "                f.write(chunk)"
   ]
  }
 ],
 "metadata": {
  "kernelspec": {
   "display_name": "Python 3.10.0 64-bit",
   "language": "python",
   "name": "python3"
  },
  "language_info": {
   "codemirror_mode": {
    "name": "ipython",
    "version": 3
   },
   "file_extension": ".py",
   "mimetype": "text/x-python",
   "name": "python",
   "nbconvert_exporter": "python",
   "pygments_lexer": "ipython3",
   "version": "3.10.0"
  },
  "orig_nbformat": 4,
  "vscode": {
   "interpreter": {
    "hash": "aee8b7b246df8f9039afb4144a1f6fd8d2ca17a180786b69acc140d282b71a49"
   }
  }
 },
 "nbformat": 4,
 "nbformat_minor": 2
}
